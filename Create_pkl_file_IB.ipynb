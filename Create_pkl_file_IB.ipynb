{
 "cells": [
  {
   "cell_type": "code",
   "execution_count": 2,
   "metadata": {},
   "outputs": [],
   "source": [
    "import os\n",
    "import scipy.io\n",
    "import numpy as np\n",
    "\n",
    "import xgboost as xgb\n",
    "import lightgbm as lgb\n",
    "from sklearn.discriminant_analysis import LinearDiscriminantAnalysis\n",
    "from sklearn.linear_model import LogisticRegression\n",
    "from sklearn.linear_model import LinearRegression\n",
    "from sklearn.ensemble import AdaBoostClassifier\n",
    "\n",
    "from sklearn.model_selection import train_test_split #to split the dataset for training and testing\n",
    "from sklearn.svm import SVC   #for Support Vector Machine (SVM) Algorithm\n",
    "\n",
    "from sklearn import preprocessing\n",
    "from sklearn import metrics\n",
    "from sklearn.ensemble import RandomForestClassifier\n",
    "\n",
    "from sklearn.neighbors import KNeighborsClassifier  # for K nearest neighbours\n",
    "from sklearn.tree import DecisionTreeClassifier #for using Decision Tree Algoithm\n",
    "\n",
    "\n",
    "import tensorflow as tf\n",
    "from keras.utils.vis_utils import plot_model\n",
    "from keras.preprocessing.sequence import TimeseriesGenerator\n",
    "\n",
    "from keras.models import Sequential\n",
    "from keras.layers import Dense, Flatten, Dropout, Conv1D, Conv2D, MaxPooling1D\n",
    "\n",
    "from sklearn.preprocessing import StandardScaler\n",
    "import matplotlib.pyplot as plt\n"
   ]
  },
  {
   "cell_type": "code",
   "execution_count": 3,
   "metadata": {},
   "outputs": [
    {
     "name": "stdout",
     "output_type": "stream",
     "text": [
      "Num GPUs Available:  1\n"
     ]
    }
   ],
   "source": [
    "\n",
    "print(\"Num GPUs Available: \", len(tf.config.list_physical_devices('GPU')))"
   ]
  },
  {
   "cell_type": "code",
   "execution_count": 35,
   "metadata": {},
   "outputs": [],
   "source": [
    "\n",
    "\n",
    "def load_data(folder_path):\n",
    "    all_epochs = []\n",
    "    all_triggers = []\n",
    "    all_labels = []\n",
    "    all_stimuli = []\n",
    "    all_phase = []\n",
    "    all_subjects = []\n",
    "\n",
    "    for root, dirs, files in os.walk(folder_path):\n",
    "        for file in files:\n",
    "            if file.endswith(\".mat\"):\n",
    "                filepath = os.path.join(root, file)\n",
    "                #print(filepath)\n",
    "                \n",
    "                mat = scipy.io.loadmat(filepath)\n",
    "                # Replace 'data' with the actual key in your .mat files\n",
    "                data = mat['epoch']  # Shape: (n_channels, n_times, n_epochs)\n",
    "                \n",
    "                if data is None:\n",
    "                    print(f'File {file_path} is empty')\n",
    "                    continue\n",
    "                # Get the trigger type from the filename\n",
    "                trigger_type = int(file.split('_type')[-1].split('.')[0])\n",
    "                \n",
    "                # Create a list of triggers based on the number of epochs\n",
    "                #print(trigger_type)\n",
    "                triggers = [trigger_type] * data.shape[2]\n",
    "                \n",
    "                # Get the label from the folder name\n",
    "                label = 0 if 'Not_Blinded' in root else 1\n",
    "                \n",
    "                # Append data to the lists\n",
    "                all_epochs.append(data)\n",
    "                all_triggers.extend(triggers)\n",
    "                all_labels.extend([label] * data.shape[2])\n",
    "                stimulus, phase = get_stimulus_and_phase(filepath)\n",
    "                all_stimuli.extend([stimulus]* data.shape[2])\n",
    "                all_phase.extend([phase] * data.shape[2])\n",
    "                #print(f\"Stimulus: {stimulus}, Phase: {phase}\")\n",
    "                all_subjects.extend([get_subject_number(filepath)]* data.shape[2])\n",
    "                \n",
    "\n",
    "    # Concatenate lists into numpy arrays\n",
    "    all_epochs = np.concatenate(all_epochs, axis=2)  # Shape: (n_channels, n_times, total_epochs)\n",
    "    all_triggers = np.array(all_triggers)  # Shape: (total_epochs,)\n",
    "    all_labels = np.array(all_labels)  # Shape: (total_epochs,)\n",
    "\n",
    "    return all_epochs, all_triggers, all_labels, all_phase, all_stimuli, all_subjects\n",
    "\n"
   ]
  },
  {
   "cell_type": "code",
   "execution_count": 30,
   "metadata": {},
   "outputs": [],
   "source": [
    "import re\n",
    "\n",
    "def get_subject_number(file_name):\n",
    "    match = re.search(r'IB_Sub_(\\d+)_', file_name)\n",
    "    if match:\n",
    "        #print(int(match.group(1)))\n",
    "        return int(match.group(1))\n",
    "        \n",
    "    else:\n",
    "        #print(\"Found None Subj Num\")\n",
    "        return None  # or handle the case where no subject number is found\n",
    "        \n",
    "        #print(int(match.group(1)))\n"
   ]
  },
  {
   "cell_type": "code",
   "execution_count": 31,
   "metadata": {},
   "outputs": [],
   "source": [
    "def get_stimulus_and_phase(file_name):\n",
    "    stimulus = \"\"\n",
    "    phase = \"\"\n",
    "\n",
    "    if 'type210' in file_name:\n",
    "        stimulus = 'face'\n",
    "        phase = 'invisible'\n",
    "    elif 'type220' in file_name:\n",
    "        stimulus = 'face'\n",
    "        phase = 'visible'\n",
    "    elif 'type230' in file_name:\n",
    "        stimulus = 'face'\n",
    "        phase = 'reported'\n",
    "    elif 'type211' in file_name:\n",
    "        stimulus = 'house'\n",
    "        phase = 'invisible'\n",
    "    elif 'type221' in file_name:\n",
    "        stimulus = 'house'\n",
    "        phase = 'visible'\n",
    "    elif 'type231' in file_name:\n",
    "        stimulus = 'house'\n",
    "        phase = 'reported'\n",
    "    elif 'type212' in file_name:\n",
    "        stimulus = 'noise'\n",
    "        phase = 'invisible'\n",
    "    elif 'type222' in file_name:\n",
    "        stimulus = 'noise'\n",
    "        phase = 'visible'\n",
    "    elif 'type232' in file_name:\n",
    "        stimulus = 'noise'\n",
    "        phase = 'reported'\n",
    "        \n",
    "    #print(f\"Stimulus: {stimulus}, Phase: {phase}\")\n",
    "\n",
    "    return stimulus, phase\n",
    "\n",
    "# Example usage\n",
    "#stimulus, phase = get_stimulus_and_phase(file_name)\n",
    "#\n"
   ]
  },
  {
   "cell_type": "code",
   "execution_count": 32,
   "metadata": {},
   "outputs": [],
   "source": [
    "\n",
    "# Load data from both folders\n",
    "blinded_folder = \"F:\\\\Triangulation\\\\Reed\\IB\\\\DONE\\\\DONE\\\\Blinded\\\\Epochs_full\"\n",
    "not_blinded_folder = \"F:\\\\Triangulation\\\\Reed\\IB\\\\DONE\\\\DONE\\\\Not_Blinded\\\\Epochs_full\"\n"
   ]
  },
  {
   "cell_type": "code",
   "execution_count": 36,
   "metadata": {},
   "outputs": [],
   "source": [
    "\n",
    "epochs_blinded, triggers_blinded, labels_blinded, phase_b, stimuli_b, subjects_b = load_data(blinded_folder)\n"
   ]
  },
  {
   "cell_type": "code",
   "execution_count": 37,
   "metadata": {},
   "outputs": [
    {
     "name": "stdout",
     "output_type": "stream",
     "text": [
      "Epochs shape: (63, 1250, 88707)\n",
      "Triggers shape: (88707,)\n",
      "Labels shape: (88707,)\n",
      "Epochs shape: (88707,)\n",
      "Triggers shape: (88707,)\n",
      "Labels shape: (88707,)\n"
     ]
    }
   ],
   "source": [
    "\n",
    "epochs_not_blinded, triggers_not_blinded, labels_not_blinded, phase_n, stimuli_n, subjects_n  = load_data(not_blinded_folder)\n",
    "\n",
    "# Combine data from both folders\n",
    "epochs = np.concatenate([epochs_blinded, epochs_not_blinded], axis=2)\n",
    "triggers = np.concatenate([triggers_blinded, triggers_not_blinded])\n",
    "labels = np.concatenate([labels_blinded, labels_not_blinded])\n",
    "phase = np.concatenate([phase_b, phase_n])\n",
    "stim = np.concatenate([stimuli_b, stimuli_n])\n",
    "subj = np.concatenate([subjects_b, subjects_n])\n",
    "\n",
    "print(\"Epochs shape:\", epochs.shape)\n",
    "print(\"Triggers shape:\", triggers.shape)\n",
    "print(\"Labels shape:\", labels.shape)\n",
    "\n",
    "print(\"Epochs shape:\", stim.shape)\n",
    "print(\"Triggers shape:\", phase.shape)\n",
    "print(\"Labels shape:\", subj.shape)\n",
    "\n",
    "import pickle\n",
    "\n",
    "# Save the data\n",
    "with open('IB_eeg_data.pkl', 'wb') as f:\n",
    "    pickle.dump((epochs, triggers, labels, phase, stim, subj), f)\n"
   ]
  }
 ],
 "metadata": {
  "kernelspec": {
   "display_name": "tensorflow-gpu",
   "language": "python",
   "name": "python3"
  },
  "language_info": {
   "codemirror_mode": {
    "name": "ipython",
    "version": 3
   },
   "file_extension": ".py",
   "mimetype": "text/x-python",
   "name": "python",
   "nbconvert_exporter": "python",
   "pygments_lexer": "ipython3",
   "version": "3.9.18"
  }
 },
 "nbformat": 4,
 "nbformat_minor": 2
}
